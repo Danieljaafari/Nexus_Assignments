# Assignment A05 - Daniel Jaafari
