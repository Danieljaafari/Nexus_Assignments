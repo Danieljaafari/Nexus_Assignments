{
  "nbformat": 4,
  "nbformat_minor": 0,
  "metadata": {
    "colab": {
      "provenance": []
    },
    "kernelspec": {
      "name": "python3",
      "display_name": "Python 3"
    },
    "language_info": {
      "name": "python"
    }
  },
  "cells": [
    {
      "cell_type": "markdown",
      "source": [
        "# 🏗 Assignment: Object-Oriented Programming Basics\n",
        "\n"
      ],
      "metadata": {
        "id": "pmXWXQskqQf7"
      }
    },
    {
      "cell_type": "markdown",
      "source": [
        "## 🎯 Goal\n",
        "This assignment checks your understanding of classes, objects, attributes, and methods using Python."
      ],
      "metadata": {
        "id": "mYX-Yr0YqWTv"
      }
    },
    {
      "cell_type": "markdown",
      "source": [
        "### 1️⃣ Class and Object Creation\n",
        "**Task:**\n",
        "\n",
        "* Define a class Car with attributes brand and year.\n",
        "\n",
        "* Create an object car1 of class Car with values (\"Toyota\", 2020) and print them."
      ],
      "metadata": {
        "id": "uxnkvADeqX6P"
      }
    },
    {
      "cell_type": "code",
      "execution_count": null,
      "metadata": {
        "id": "HF7h_UxJqNLb"
      },
      "outputs": [],
      "source": [
        "# Example snippet\n",
        "class Car:\n",
        "    def __init__(self, brand, year):\n",
        "        self.brand = brand\n",
        "        self.year = year\n",
        "\n",
        "car1 = Car(\"Toyota\", 2020)\n",
        "print(car1.brand, car1.year)\n"
      ]
    },
    {
      "cell_type": "code",
      "source": [
        "#Your turn:\n",
        "# Create another object car2 with brand \"Tesla\" and year 2023.\n",
        "class CarDatabase:\n",
        "    def __init__(self):\n",
        "        self.data = {\n",
        "            \"2022\": {\n",
        "                \"Tesla\": [\"Model 3\", \"Model Y\"],\n",
        "                \"Toyota\": [\"Camery1\", \"Highlux1\"],\n",
        "            },\n",
        "            \"2023\": {\n",
        "                \"Tesla\": [\"Model X\", \"Model S\"],\n",
        "                \"Toyota\": [\"Camery2\", \"Highlux2\"],\n",
        "            }\n",
        "        }\n",
        "\n",
        "    def find_models(self, brand=None, year=None):\n",
        "      # if main: Year is provided and exists in database\n",
        "        if year and year in self.data:\n",
        "          # Sub-if: Both year and valid brand are provided\n",
        "            if brand and brand in self.data[year]:\n",
        "                return f\"🚗 {brand} models in {year}: {', '.join(self.data[year][brand])}\"\n",
        "          # Sub-case if: Brand is provided but not found in that year\n",
        "            elif brand and brand not in self.data[year] and brand is not None:\n",
        "                return f\"❌ No data for brand '{brand}' in year {year}.\"\n",
        "          # Sub-case if: Only year is provided, show all brands and models in that year\n",
        "            else:\n",
        "                models_list = []\n",
        "                for b, models in self.data[year].items():\n",
        "                    models_list.append(f\"{b}: {', '.join(models)}\")\n",
        "                return f\"📆 Models in {year}:\\n\" + \"\\n\".join(models_list)\n",
        "        # if main2: Only brand is provided (without year), show all years for that brand\n",
        "        elif brand:\n",
        "            output = f\"🔎 All models for brand '{brand}':\\n\"\n",
        "            found = False\n",
        "            for y in self.data:\n",
        "                if brand in self.data[y]:\n",
        "                    found = True\n",
        "                    output += f\"{y}: {', '.join(self.data[y][brand])}\\n\"\n",
        "            return output if found else f\"❌ No data for brand '{brand}'.\"\n",
        "        # if main3: Neither brand nor year is provided, show warning\n",
        "        else:\n",
        "            return \"⚠️ Please enter at least a brand or a year!\"\n",
        "\n",
        "#Creating Object this class\n",
        "db = CarDatabase()\n",
        "\n",
        "#input for contant\n",
        "year_input = input(\"Enter year (or leave blank): \").strip()\n",
        "brand_input = input(\"Enter brand (or leave blank): \").strip()\n",
        "\n",
        "#if contant's input is no arrgument , sopouse None\n",
        "year = year_input if year_input else None\n",
        "brand = brand_input if brand_input else None\n",
        "\n",
        "result = db.find_models(brand=brand, year=year)\n",
        "print(result)"
      ],
      "metadata": {
        "id": "5frI0xqrqcz2",
        "colab": {
          "base_uri": "https://localhost:8080/"
        },
        "outputId": "b36ab44f-ae64-4ff7-fd9a-31686b8afecd"
      },
      "execution_count": null,
      "outputs": [
        {
          "output_type": "stream",
          "name": "stdout",
          "text": [
            "Enter year (or leave blank): \n",
            "Enter brand (or leave blank): Tesla\n",
            "🔎 All models for brand 'Tesla':\n",
            "2022: Model 3, Model Y\n",
            "2023: Model X, Model S\n",
            "\n"
          ]
        }
      ]
    },
    {
      "cell_type": "markdown",
      "source": [
        "### 2️⃣ Add Methods 🛠\n",
        "**Task:**\n",
        "Add a method info() to Car that prints \"Brand: <brand>, Year: <year>\"."
      ],
      "metadata": {
        "id": "1WvafJpAqgkt"
      }
    },
    {
      "cell_type": "code",
      "source": [
        "# Example snippet\n",
        "class Car:\n",
        "    def __init__(self, brand, year):\n",
        "        self.brand = brand\n",
        "        self.year = year\n",
        "\n",
        "    def info(self):\n",
        "        print(f\"Brand: {self.brand}, Year: {self.year}\")\n",
        "\n",
        "car1 = Car(\"Toyota\", 2020)\n",
        "car1.info()\n"
      ],
      "metadata": {
        "id": "AJM4pVrzqfJP",
        "colab": {
          "base_uri": "https://localhost:8080/"
        },
        "outputId": "4b3799e2-3930-4171-ec21-44a95a8855b0"
      },
      "execution_count": null,
      "outputs": [
        {
          "output_type": "stream",
          "name": "stdout",
          "text": [
            "Brand: Toyota, Year: 2020\n"
          ]
        }
      ]
    },
    {
      "cell_type": "code",
      "source": [
        "# Your turn:\n",
        "# Call info() for car2.\n",
        "class Car:\n",
        "  def __init__(self, brand, year , model):\n",
        "    self.brand = brand\n",
        "    self.year = year\n",
        "    self.model = model\n",
        "\n",
        "  def info(self):\n",
        "    print(f\"The Brand of{self.brand} and Year of{self.year} and Model of{self.model}is now\")\n",
        "\n",
        "\n",
        "# Creating multiple Tesla cars based on year and model\n",
        "car1 = Car(\"Tesla\", 2022, \"Model 3\")\n",
        "car2 = Car(\"Tesla\", 2022, \"Model Y\")\n",
        "car3 = Car(\"Tesla\", 2023, \"Model X\")\n",
        "car4 = Car(\"Tesla\", 2023, \"Model S\")\n",
        "\n",
        "car1.info()\n",
        "car2.info()\n",
        "car3.info()\n",
        "car4.info()"
      ],
      "metadata": {
        "id": "qwuFw0CiqkM8",
        "colab": {
          "base_uri": "https://localhost:8080/"
        },
        "outputId": "0d073a7e-03c3-44cb-c243-e98ee9394640"
      },
      "execution_count": null,
      "outputs": [
        {
          "output_type": "stream",
          "name": "stdout",
          "text": [
            "The Brand ofTesla and Year of2022 and Model ofModel 3is now\n",
            "The Brand ofTesla and Year of2022 and Model ofModel Yis now\n",
            "The Brand ofTesla and Year of2023 and Model ofModel Xis now\n",
            "The Brand ofTesla and Year of2023 and Model ofModel Sis now\n"
          ]
        }
      ]
    },
    {
      "cell_type": "markdown",
      "source": [
        "### 3️⃣ Class vs Instance Attributes 📦\n",
        "**Task:**\n",
        "\n",
        "* Add a class attribute wheels = 4 to Car.\n",
        "\n",
        "* Print car1.wheels and car2.wheels."
      ],
      "metadata": {
        "id": "AOwBtvr0qosK"
      }
    },
    {
      "cell_type": "code",
      "source": [
        "# To do\n",
        "class Car:\n",
        "  wheels = 4\n",
        "  def __init__(self, brand, year, model):\n",
        "    self.brand = brand\n",
        "    self.year = year\n",
        "    self.model = model\n",
        "  def info(self):\n",
        "    print(f\"The Brand of{self.brand} and Year of{self.year} and Model of{self.model}is now\")\n",
        "\n",
        "car1 = Car(\"Tesla\", 2022, \"Model Y\")\n",
        "car2 = Car(\"Tesla\", 2023, \"Model X\")\n",
        "\n",
        "print(\"car1 wheels:\", car1.wheels)\n",
        "print(\"car2 wheels:\", car2.wheels)\n",
        "\n",
        "\n",
        "car1.info()\n",
        "car2.info()\n",
        "\n",
        "\n"
      ],
      "metadata": {
        "id": "rPXvKwtsqm0C",
        "colab": {
          "base_uri": "https://localhost:8080/"
        },
        "outputId": "d7f77f3b-4990-4172-c3c8-a20a1668f1b2"
      },
      "execution_count": null,
      "outputs": [
        {
          "output_type": "stream",
          "name": "stdout",
          "text": [
            "car1 wheels: 4\n",
            "car2 wheels: 4\n",
            "The Brand ofTesla and Year of2022 and Model ofModel Yis now\n",
            "The Brand ofTesla and Year of2023 and Model ofModel Xis now\n"
          ]
        }
      ]
    },
    {
      "cell_type": "markdown",
      "source": [
        "### 4️⃣ Inheritance 👑\n",
        "**Task:**\n",
        "\n",
        "* Create a subclass ElectricCar inheriting from Car.\n",
        "* Add a new attribute battery (e.g., \"80 kWh\") and a method battery_info() that prints \"Battery: <battery>\"."
      ],
      "metadata": {
        "id": "NLoiaaeuquwg"
      }
    },
    {
      "cell_type": "code",
      "source": [
        "# Example snippet\n",
        "class ElectricCar(Car):\n",
        "    def __init__(self, brand, year, battery):\n",
        "        ________.__init__(brand, year)\n",
        "        self.battery = battery\n",
        "\n",
        "    def battery_info(self):\n",
        "        print(f\"Battery: {________.battery}\")\n",
        "\n",
        "e_car = ElectricCar(\"Tesla\", 2023, \"80 kWh\")\n",
        "e_car.info()\n",
        "e_car.battery_info()\n"
      ],
      "metadata": {
        "id": "e_sS1YdIqtk_"
      },
      "execution_count": null,
      "outputs": []
    },
    {
      "cell_type": "code",
      "source": [
        "class Car:\n",
        "    def __init__(self, brand, year, model):\n",
        "        self.brand = brand\n",
        "        self.year = year\n",
        "        self.model = model\n",
        "\n",
        "    def info(self):\n",
        "        print(f\"The Brand of{self.brand} and Year of{self.year} and Model of{self.model}is now\")\n",
        "\n",
        "\n",
        "class ElectricCar(Car):\n",
        "    def __init__(self, brand, year, model, battery):\n",
        "        super().__init__(brand, year, model)\n",
        "        self.battery = battery\n",
        "\n",
        "    def battery_info(self):\n",
        "        print(f\"Battery: {self.battery}\")\n",
        "\n",
        "e_car = ElectricCar(\" Tesla \",  \" 2023 \" , \" Model S \" , \" 80 kWh \")\n",
        "\n",
        "e_car.info()\n",
        "e_car.battery_info()\n",
        "\n",
        "\n"
      ],
      "metadata": {
        "colab": {
          "base_uri": "https://localhost:8080/"
        },
        "id": "B3exlEHmH47w",
        "outputId": "0fbe616d-2dbd-410e-90f0-32222fc5a3f1"
      },
      "execution_count": null,
      "outputs": [
        {
          "output_type": "stream",
          "name": "stdout",
          "text": [
            "The Brand of Tesla  and Year of 2023  and Model of Model S is now\n",
            "Battery:  80 kWh \n"
          ]
        }
      ]
    },
    {
      "cell_type": "markdown",
      "source": [
        "### 5️⃣ Bonus ⚡\n",
        "* Add a __str__ method to Car to return a string like: \"Car(brand=Toyota, year=2020)\"."
      ],
      "metadata": {
        "id": "wC0OIrRMq7jv"
      }
    },
    {
      "cell_type": "code",
      "source": [
        "# To do\n",
        "class Car:\n",
        "    def __init__(self, brand, year, model):\n",
        "        self.brand = brand\n",
        "        self.year = year\n",
        "        self.model = model\n",
        "\n",
        "    def info(self):\n",
        "        print(f\"The Brand of{self.brand} and Year of{self.year} and Model of{self.model}is now\")\n",
        "\n",
        "    def __str__(self):\n",
        "        return f\"Car(brand={self.brand}, year={self.year} , model={self.model})\"\n",
        "\n",
        "car1 = Car(\"Toyota\", 2022, \"Camery1\")\n",
        "print(car1)\n",
        "\n",
        "\n"
      ],
      "metadata": {
        "id": "cAfBWxrlrA2t",
        "colab": {
          "base_uri": "https://localhost:8080/"
        },
        "outputId": "69a89a25-96d4-4609-9a2c-ccb4ce2d16c1"
      },
      "execution_count": null,
      "outputs": [
        {
          "output_type": "stream",
          "name": "stdout",
          "text": [
            "Car(brand=Toyota, year=2022 , model=Camery1)\n"
          ]
        }
      ]
    }
  ]
}